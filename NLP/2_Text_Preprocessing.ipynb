{
 "cells": [
  {
   "cell_type": "markdown",
   "metadata": {},
   "source": [
    "<h1 style='color:green;'><center>Text Preprocessing in NLP</center></h1>"
   ]
  },
  {
   "cell_type": "markdown",
   "metadata": {},
   "source": [
    "Text preprocessing is a crucial step in Natural Language Processing (NLP) to prepare raw text data for analysis. It involves cleaning, transforming, and converting text into formats that algorithms can effectively process. In text preprocessing we try to convert the text data into numerical so that machine able to understand the text data. "
   ]
  },
  {
   "cell_type": "markdown",
   "metadata": {},
   "source": [
    "# Key concepts in NLP\n",
    "* Corpus\n",
    "* Tokenization\n",
    "* Stopwords\n",
    "* Stemming\n",
    "* Lemmatization\n",
    "* One-Hot Encoding\n",
    "* Bag of Words (BoW)\n",
    "* TF-IDF (Term Frequency - Inverse Document Frequency)\n",
    "* N-Grams\n",
    "* Word2Vec\n"
   ]
  },
  {
   "cell_type": "markdown",
   "metadata": {},
   "source": [
    "# 1. Corpus\n",
    "What is it?\n",
    " - A corpus is a collection of text data used for analysis or training NLP models. For example, a set of news articles, books, or social media posts can constitute a corpus.\n",
    "\n",
    "When to use?\n",
    " - A corpus is essential in NLP because it provides the raw data for model training or linguistic research.\n",
    "\n",
    "Advantages:\n",
    " - Provides diverse data for training.\n",
    " - Can be tailored for specific tasks (e.g., sentiment analysis, chatbots).\n",
    "\n",
    "Disadvantages:\n",
    " - May require extensive cleaning and annotation.\n",
    " - Large corpora can be computationally expensive to process.\n",
    "\n",
    "Example:"
   ]
  },
  {
   "cell_type": "code",
   "execution_count": null,
   "metadata": {},
   "outputs": [],
   "source": []
  }
 ],
 "metadata": {
  "kernelspec": {
   "display_name": "base",
   "language": "python",
   "name": "python3"
  },
  "language_info": {
   "codemirror_mode": {
    "name": "ipython",
    "version": 3
   },
   "file_extension": ".py",
   "mimetype": "text/x-python",
   "name": "python",
   "nbconvert_exporter": "python",
   "pygments_lexer": "ipython3",
   "version": "3.11.7"
  }
 },
 "nbformat": 4,
 "nbformat_minor": 2
}
