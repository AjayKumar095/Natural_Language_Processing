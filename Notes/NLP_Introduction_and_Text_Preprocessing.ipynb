{
 "cells": [
  {
   "cell_type": "markdown",
   "metadata": {},
   "source": [
    "<h1 style='color: green;'><center>NLP Introduction and Text Preprocessing</center></h1>"
   ]
  },
  {
   "cell_type": "markdown",
   "metadata": {},
   "source": [
    "<h3 style=\"color: blue;\">1. What is the primary goal of Natural Language Processing (NLP)?</h3>\n",
    "    <p>The primary goal of NLP is to enable machines to understand, interpret, and generate human language in a way that is meaningful and useful. It bridges the gap between human communication and machine understanding.</p>\n",
    "    \n",
    "<h3 style=\"color: blue;\">2. What does \"tokenization\" refer to in text processing?</h3>\n",
    "    <p>Tokenization refers to the process of breaking down text into smaller units, called tokens, which could be words, phrases, or sentences. For example, splitting \"I love NLP\" into [\"I\", \"love\", \"NLP\"].</p>\n",
    "\n",
    "<h3 style=\"color: blue;\">3. What is the difference between lemmatization and stemming?</h3>\n",
    "    <p>Stemming reduces a word to its base or root form by cutting off prefixes or suffixes (e.g., \"running\" to \"run\"). Lemmatization does the same but uses vocabulary and grammar rules to return the word to its dictionary form (e.g., \"better\" to \"good\").</p>\n",
    "\n",
    "<h3 style=\"color: blue;\">4. What is the role of regular expressions (regex) in text processing?</h3>\n",
    "    <p>Regex is used to identify patterns in text, such as finding email addresses, phone numbers, or specific words. It simplifies text cleaning and data extraction tasks.</p>\n",
    "\n",
    "<h3 style=\"color: blue;\">5. What is Word2Vec and how does it represent words in a vector space?</h3>\n",
    "    <p>Word2Vec is a technique for representing words as dense vectors in a high-dimensional space. It captures semantic relationships between words, making similar words have closer vector representations.</p>\n",
    "\n",
    "<h3 style=\"color: blue;\">6. How does frequency distribution help in text analysis?</h3>\n",
    "    <p>Frequency distribution helps identify the most common words or terms in a dataset, providing insights into the content and helping to prioritize key terms in analysis.</p>\n",
    "\n",
    "<h3 style=\"color: blue;\">7. Why is text normalization important in NLP?</h3>\n",
    "    <p>Text normalization ensures consistency by converting text into a standard format. It involves tasks like lowercasing, removing punctuation, and handling misspellings.</p>\n",
    "\n",
    "<h3 style=\"color: blue;\">8. What is the difference between sentence tokenization and word tokenization?</h3>\n",
    "    <p>Sentence tokenization splits text into individual sentences, while word tokenization breaks sentences into words.</p>\n",
    "\n",
    "<h3 style=\"color: blue;\">9. What are co-occurrence vectors in NLP?</h3>\n",
    "    <p>Co-occurrence vectors represent the context of a word by counting how often it appears with other words in a window of text, helping to capture semantic relationships.</p>\n",
    "\n",
    "<h3 style=\"color: blue;\">10. What is the significance of lemmatization in improving NLP tasks?</h3>\n",
    "    <p>Lemmatization reduces words to their root forms, improving the consistency of input text and reducing redundancy for NLP tasks like search engines or sentiment analysis.</p>\n",
    "\n",
    "<h3 style=\"color: blue;\">11. What is the primary use of word embeddings in NLP?</h3>\n",
    "    <p>Word embeddings are used to represent words in a vector space where semantic similarity is preserved, aiding tasks like text classification and machine translation.</p>\n",
    "\n",
    "<h3 style=\"color: blue;\">12. What is an annotator in NLP?</h3>\n",
    "    <p>An annotator is a tool or software used to label data with relevant information, such as tagging parts of speech, named entities, or sentiment in a text.</p>\n",
    "\n",
    "<h3 style=\"color: blue;\">13. What are the key steps in text processing before applying machine learning models?</h3>\n",
    "    <ul>\n",
    "        <li>Text cleaning (removing noise, punctuation, etc.)</li>\n",
    "        <li>Tokenization</li>\n",
    "        <li>Text normalization (lowercasing, stemming/lemmatization)</li>\n",
    "        <li>Vectorization (converting text to numerical format)</li>\n",
    "    </ul>\n",
    "\n",
    "<h3 style=\"color: blue;\">14. What is the history of NLP and how has it evolved?</h3>\n",
    "    <p>NLP has evolved from rule-based systems in the 1950s to statistical models and machine learning in the 1980s, followed by deep learning techniques in the 2010s.</p>\n",
    "\n",
    "<h3 style=\"color: blue;\">15. Why is sentence processing important in NLP?</h3>\n",
    "    <p>Sentence processing helps in tasks like summarization, sentiment analysis, and translation by analyzing the meaning and structure of sentences.</p>\n",
    "\n",
    "<h3 style=\"color: blue;\">16. How do word embeddings improve the understanding of language semantics in NLP?</h3>\n",
    "    <p>Word embeddings encode semantic relationships, making words with similar meanings have closer representations in a vector space, aiding in context-based tasks.</p>\n",
    "\n",
    "<h3 style=\"color: blue;\">17. How does the frequency distribution of words help in text classification?</h3>\n",
    "    <p>Frequency distribution highlights the most relevant terms for classification, helping identify features that distinguish categories.</p>\n",
    "\n",
    "<h3 style=\"color: blue;\">18. What are the advantages of using regex in text cleaning?</h3>\n",
    "    <p>Regex simplifies identifying patterns, cleaning data, and extracting specific information like dates, emails, or URLs.</p>\n",
    "\n",
    "<h3 style=\"color: blue;\">19. What is the difference between Word2Vec and Doc2Vec?</h3>\n",
    "    <p>Word2Vec generates vectors for individual words, while Doc2Vec extends this to create vectors for entire documents or paragraphs, capturing their meaning.</p>\n",
    "\n",
    "<h3 style=\"color: blue;\">20. Why is understanding text normalization important in NLP?</h3>\n",
    "    <p>Text normalization ensures that text is consistent and free of variations, enabling better model performance and comparability.</p>\n",
    "\n",
    "<h3 style=\"color: blue;\">21. How does word count help in text analysis?</h3>\n",
    "    <p>Word count identifies the frequency of terms, providing insights into the main topics and themes in a text corpus.</p>\n",
    "\n",
    "<h3 style=\"color: blue;\">22. How does lemmatization help in NLP tasks like search engines and chatbots?</h3>\n",
    "    <p>Lemmatization reduces word variations, improving search relevance and chatbot understanding by focusing on word meanings.</p>\n",
    "\n",
    "<h3 style=\"color: blue;\">23. What is the purpose of using Doc2Vec in text processing?</h3>\n",
    "    <p>Doc2Vec creates vector representations of documents, enabling tasks like document similarity, clustering, and classification.</p>\n",
    "\n",
    "<h3 style=\"color: blue;\">24. What is the importance of sentence processing in NLP?</h3>\n",
    "    <p>Sentence processing helps understand the structure and meaning of text, which is crucial for translation, summarization, and other tasks.</p>\n",
    "\n",
    "<h3 style=\"color: blue;\">25. What is text normalization, and what are the common techniques used in it?</h3>\n",
    "    <p>Text normalization converts text to a consistent format using techniques like lowercasing, stemming, lemmatization, and removing special characters.</p>\n",
    "\n",
    "<h3 style=\"color: blue;\">26. Why is word tokenization important in NLP?</h3>\n",
    "    <p>Word tokenization breaks text into words, which is a fundamental step for analyzing and processing language.</p>\n",
    "\n",
    "<h3 style=\"color: blue;\">27. How does sentence tokenization differ from word tokenization in NLP?</h3>\n",
    "    <p>Sentence tokenization splits text into sentences, while word tokenization focuses on dividing sentences into individual words.</p>\n",
    "\n",
    "<h3 style=\"color: blue;\">28. What is the primary purpose of text processing in NLP?</h3>\n",
    "    <p>Text processing prepares raw text for analysis by cleaning, normalizing, and transforming it into a usable format for NLP models.</p>\n",
    "\n",
    "<h3 style=\"color: blue;\">29. What are the key challenges in NLP?</h3>\n",
    "    <ul>\n",
    "        <li>Understanding context and ambiguity</li>\n",
    "        <li>Handling idioms and figurative language</li>\n",
    "        <li>Processing different languages and dialects</li>\n",
    "        <li>Scaling to large datasets</li>\n",
    "    </ul>\n",
    "\n",
    "<h3 style=\"color: blue;\">30. How do co-occurrence vectors represent relationships between words?</h3>\n",
    "    <p>Co-occurrence vectors capture relationships by counting how often words appear together in a specific context, helping in semantic analysis.</p>\n",
    "\n",
    "<h3 style=\"color: blue;\">31. What is the role of frequency distribution in text analysis?</h3>\n",
    "    <p>Frequency distribution identifies common terms and patterns in text, aiding in feature selection and thematic analysis.</p>\n",
    "\n",
    "<h3 style=\"color: blue;\">32. What is the impact of word embeddings on NLP tasks?</h3>\n",
    "    <p>Word embeddings improve NLP tasks by encoding semantic and syntactic information, enabling better performance in tasks like translation and sentiment analysis.</p>\n",
    "\n",
    "<h3 style=\"color: blue;\">33. What is the purpose of using lemmatization in text preprocessing?</h3>\n",
    "    <p>Lemmatization reduces words to their root forms, improving consistency and reducing data redundancy, making models more efficient and accurate.</p>"
   ]
  },
  {
   "cell_type": "markdown",
   "metadata": {},
   "source": [
    "<h1 style='color:green;'><center>Practical</center></h1>"
   ]
  },
  {
   "cell_type": "markdown",
   "metadata": {},
   "source": [
    "# 1. How can you perform word tokenization using NLTK"
   ]
  },
  {
   "cell_type": "code",
   "execution_count": 2,
   "metadata": {},
   "outputs": [
    {
     "name": "stdout",
     "output_type": "stream",
     "text": [
      "['The', 'primary', 'goal', 'of', 'NLP', 'is', 'to', 'enable', 'machines', 'to', 'understand', ',', 'interpret', ',', 'and', 'generate', 'human', 'language', 'in', 'a', 'way', 'that', 'is', 'meaningful', 'and', 'useful', '.', 'It', 'bridges', 'the', 'gap', 'between', 'human', 'communication', 'and', 'machine', 'understanding', '.']\n"
     ]
    }
   ],
   "source": [
    "\n",
    "from nltk.tokenize import  word_tokenize\n",
    "\n",
    "## sample text data \n",
    "corpus = \"\"\"The primary goal of NLP is to enable machines to understand, interpret,\n",
    "            and generate human language in a way that is meaningful and useful.\n",
    "            It bridges the gap between human communication and machine understanding.\"\"\"\n",
    "            \n",
    "word_tokens = word_tokenize(text=corpus, language='english')         \n",
    "print(word_tokens)"
   ]
  },
  {
   "cell_type": "markdown",
   "metadata": {},
   "source": [
    "# 2. How can you perform sentence tokenization using NLTK:"
   ]
  },
  {
   "cell_type": "code",
   "execution_count": 3,
   "metadata": {},
   "outputs": [
    {
     "name": "stdout",
     "output_type": "stream",
     "text": [
      "['The primary goal of NLP is to enable machines to understand, interpret,\\n            and generate human language in a way that is meaningful and useful.', 'It bridges the gap between human communication and machine understanding.']\n"
     ]
    }
   ],
   "source": [
    "from nltk.tokenize import  sent_tokenize\n",
    "\n",
    "## sample text data \n",
    "corpus = \"\"\"The primary goal of NLP is to enable machines to understand, interpret,\n",
    "            and generate human language in a way that is meaningful and useful.\n",
    "            It bridges the gap between human communication and machine understanding.\"\"\"\n",
    "            \n",
    "sent_tokens = sent_tokenize(text=corpus, language='english')         \n",
    "print(sent_tokens)"
   ]
  },
  {
   "cell_type": "markdown",
   "metadata": {},
   "source": [
    "# 3. How can you remove stopwords from a sentence?"
   ]
  },
  {
   "cell_type": "code",
   "execution_count": 4,
   "metadata": {},
   "outputs": [
    {
     "name": "stdout",
     "output_type": "stream",
     "text": [
      "['primary', 'goal', 'NLP', 'enable', 'machines', 'understand', ',', 'interpret', ',', 'generate', 'human', 'language', 'way', 'meaningful', 'useful', '.', 'bridges', 'gap', 'human', 'communication', 'machine', 'understanding', '.']\n"
     ]
    }
   ],
   "source": [
    "from nltk.corpus import stopwords\n",
    "from nltk.tokenize import word_tokenize\n",
    "\n",
    "## sample text data \n",
    "corpus = \"\"\"The primary goal of NLP is to enable machines to understand, interpret,\n",
    "            and generate human language in a way that is meaningful and useful.\n",
    "            It bridges the gap between human communication and machine understanding.\"\"\"\n",
    "            \n",
    "word_tokens = word_tokenize(text=corpus, language='english')\n",
    "\n",
    "## removing stopwords for the above corpus\n",
    "clean_data  = [ word for word in word_tokens if word.lower() not in stopwords.words('english')]\n",
    "print(clean_data)"
   ]
  },
  {
   "cell_type": "markdown",
   "metadata": {},
   "source": [
    "# 4. How can you perform stemming on a word?"
   ]
  },
  {
   "cell_type": "code",
   "execution_count": 6,
   "metadata": {},
   "outputs": [
    {
     "name": "stdout",
     "output_type": "stream",
     "text": [
      "['primari', 'goal', 'nlp', 'enabl', 'machin', 'understand', ',', 'interpret', ',', 'gener', 'human', 'languag', 'way', 'meaning', 'use', '.', 'bridg', 'gap', 'human', 'commun', 'machin', 'understand', '.']\n"
     ]
    }
   ],
   "source": [
    "from nltk.corpus import stopwords\n",
    "from nltk.tokenize import word_tokenize\n",
    "from nltk.stem import PorterStemmer ## for stemming\n",
    "\n",
    "## sample text data \n",
    "corpus = \"\"\"The primary goal of NLP is to enable machines to understand, interpret,\n",
    "            and generate human language in a way that is meaningful and useful.\n",
    "            It bridges the gap between human communication and machine understanding.\"\"\"\n",
    "            \n",
    "word_tokens = word_tokenize(text=corpus, language='english')\n",
    "## initializing the stemmer object\n",
    "stemmer = PorterStemmer()\n",
    "\n",
    "## removing stopwords and applying stemming for the above corpus\n",
    "clean_data  = [ stemmer.stem(word) for word in word_tokens if word.lower() not in stopwords.words('english')]\n",
    "print(clean_data)"
   ]
  },
  {
   "cell_type": "markdown",
   "metadata": {},
   "source": [
    "# 5. How can you perform lemmatization on a word?"
   ]
  },
  {
   "cell_type": "code",
   "execution_count": 7,
   "metadata": {},
   "outputs": [
    {
     "name": "stdout",
     "output_type": "stream",
     "text": [
      "['primary', 'goal', 'NLP', 'enable', 'machine', 'understand', ',', 'interpret', ',', 'generate', 'human', 'language', 'way', 'meaningful', 'useful', '.', 'bridge', 'gap', 'human', 'communication', 'machine', 'understanding', '.']\n"
     ]
    }
   ],
   "source": [
    "from nltk.corpus import stopwords\n",
    "from nltk.tokenize import word_tokenize\n",
    "from nltk.stem import WordNetLemmatizer ## for lemmatization\n",
    "\n",
    "## sample text data \n",
    "corpus = \"\"\"The primary goal of NLP is to enable machines to understand, interpret,\n",
    "            and generate human language in a way that is meaningful and useful.\n",
    "            It bridges the gap between human communication and machine understanding.\"\"\"\n",
    "            \n",
    "word_tokens = word_tokenize(text=corpus, language='english')\n",
    "## initializing the WordNetLemmatizer object\n",
    "lemmatizer = WordNetLemmatizer()\n",
    "\n",
    "## removing stopwords and applying stemming for the above corpus\n",
    "clean_data  = [ lemmatizer.lemmatize(word) for word in word_tokens if word.lower() not in stopwords.words('english')]\n",
    "print(clean_data)"
   ]
  },
  {
   "cell_type": "markdown",
   "metadata": {},
   "source": [
    "# 6. How can you normalize a text by converting it to lowercase and removing punctuation?"
   ]
  },
  {
   "cell_type": "code",
   "execution_count": 16,
   "metadata": {},
   "outputs": [
    {
     "name": "stdout",
     "output_type": "stream",
     "text": [
      "['the', 'primary', 'goal', 'of', 'nlp', 'is', 'to', 'enable', 'machines', 'to', 'understand', ' ', 'interpret', ' ', 'and', 'generate', 'human', 'language', 'in', 'a', 'way', 'that', 'is', 'meaningful', 'and', 'useful', ' ', 'it', 'bridges', 'the', 'gap', 'between', 'human', 'communication', 'and', 'machine', 'understanding', ' ']\n"
     ]
    }
   ],
   "source": [
    "import re\n",
    "from nltk.tokenize import word_tokenize\n",
    "\n",
    "## sample text data \n",
    "corpus = \"\"\"The primary goal of NLP is to enable machines to understand, interpret,\n",
    "            and generate human language in a way that is meaningful and useful.\n",
    "            It bridges the gap between human communication and machine understanding.\"\"\"\n",
    "            \n",
    "word_tokens = word_tokenize(text=corpus, language='english')\n",
    "\n",
    "normalized_corpus = [ re.sub('[^a-zA-Z]',' ', word).lower() for word in word_tokens]      \n",
    "print(normalized_corpus)     "
   ]
  },
  {
   "cell_type": "markdown",
   "metadata": {},
   "source": [
    "# 7. How can you create a co-occurrence matrix for words in a corpus?"
   ]
  },
  {
   "cell_type": "code",
   "execution_count": 17,
   "metadata": {},
   "outputs": [
    {
     "data": {
      "text/html": [
       "<div>\n",
       "<style scoped>\n",
       "    .dataframe tbody tr th:only-of-type {\n",
       "        vertical-align: middle;\n",
       "    }\n",
       "\n",
       "    .dataframe tbody tr th {\n",
       "        vertical-align: top;\n",
       "    }\n",
       "\n",
       "    .dataframe thead th {\n",
       "        text-align: right;\n",
       "    }\n",
       "</style>\n",
       "<table border=\"1\" class=\"dataframe\">\n",
       "  <thead>\n",
       "    <tr style=\"text-align: right;\">\n",
       "      <th></th>\n",
       "      <th>cat</th>\n",
       "      <th>chased</th>\n",
       "      <th>dog</th>\n",
       "      <th>log</th>\n",
       "      <th>mat</th>\n",
       "      <th>on</th>\n",
       "      <th>sat</th>\n",
       "      <th>the</th>\n",
       "    </tr>\n",
       "  </thead>\n",
       "  <tbody>\n",
       "    <tr>\n",
       "      <th>cat</th>\n",
       "      <td>2</td>\n",
       "      <td>1</td>\n",
       "      <td>1</td>\n",
       "      <td>0</td>\n",
       "      <td>1</td>\n",
       "      <td>1</td>\n",
       "      <td>1</td>\n",
       "      <td>4</td>\n",
       "    </tr>\n",
       "    <tr>\n",
       "      <th>chased</th>\n",
       "      <td>1</td>\n",
       "      <td>1</td>\n",
       "      <td>1</td>\n",
       "      <td>0</td>\n",
       "      <td>0</td>\n",
       "      <td>0</td>\n",
       "      <td>0</td>\n",
       "      <td>2</td>\n",
       "    </tr>\n",
       "    <tr>\n",
       "      <th>dog</th>\n",
       "      <td>1</td>\n",
       "      <td>1</td>\n",
       "      <td>2</td>\n",
       "      <td>1</td>\n",
       "      <td>0</td>\n",
       "      <td>1</td>\n",
       "      <td>1</td>\n",
       "      <td>4</td>\n",
       "    </tr>\n",
       "    <tr>\n",
       "      <th>log</th>\n",
       "      <td>0</td>\n",
       "      <td>0</td>\n",
       "      <td>1</td>\n",
       "      <td>1</td>\n",
       "      <td>0</td>\n",
       "      <td>1</td>\n",
       "      <td>1</td>\n",
       "      <td>2</td>\n",
       "    </tr>\n",
       "    <tr>\n",
       "      <th>mat</th>\n",
       "      <td>1</td>\n",
       "      <td>0</td>\n",
       "      <td>0</td>\n",
       "      <td>0</td>\n",
       "      <td>1</td>\n",
       "      <td>1</td>\n",
       "      <td>1</td>\n",
       "      <td>2</td>\n",
       "    </tr>\n",
       "    <tr>\n",
       "      <th>on</th>\n",
       "      <td>1</td>\n",
       "      <td>0</td>\n",
       "      <td>1</td>\n",
       "      <td>1</td>\n",
       "      <td>1</td>\n",
       "      <td>2</td>\n",
       "      <td>2</td>\n",
       "      <td>4</td>\n",
       "    </tr>\n",
       "    <tr>\n",
       "      <th>sat</th>\n",
       "      <td>1</td>\n",
       "      <td>0</td>\n",
       "      <td>1</td>\n",
       "      <td>1</td>\n",
       "      <td>1</td>\n",
       "      <td>2</td>\n",
       "      <td>2</td>\n",
       "      <td>4</td>\n",
       "    </tr>\n",
       "    <tr>\n",
       "      <th>the</th>\n",
       "      <td>4</td>\n",
       "      <td>2</td>\n",
       "      <td>4</td>\n",
       "      <td>2</td>\n",
       "      <td>2</td>\n",
       "      <td>4</td>\n",
       "      <td>4</td>\n",
       "      <td>12</td>\n",
       "    </tr>\n",
       "  </tbody>\n",
       "</table>\n",
       "</div>"
      ],
      "text/plain": [
       "        cat  chased  dog  log  mat  on  sat  the\n",
       "cat       2       1    1    0    1   1    1    4\n",
       "chased    1       1    1    0    0   0    0    2\n",
       "dog       1       1    2    1    0   1    1    4\n",
       "log       0       0    1    1    0   1    1    2\n",
       "mat       1       0    0    0    1   1    1    2\n",
       "on        1       0    1    1    1   2    2    4\n",
       "sat       1       0    1    1    1   2    2    4\n",
       "the       4       2    4    2    2   4    4   12"
      ]
     },
     "execution_count": 17,
     "metadata": {},
     "output_type": "execute_result"
    }
   ],
   "source": [
    "# Import libraries\n",
    "import numpy as np\n",
    "import pandas as pd\n",
    "from sklearn.feature_extraction.text import CountVectorizer\n",
    "\n",
    "# Sample corpus\n",
    "corpus = [\n",
    "    \"the cat sat on the mat\",\n",
    "    \"the dog sat on the log\",\n",
    "    \"the cat chased the dog\"\n",
    "]\n",
    "\n",
    "# Create a co-occurrence matrix\n",
    "vectorizer = CountVectorizer()\n",
    "X = vectorizer.fit_transform(corpus)\n",
    "\n",
    "# Generate Co-occurrence Matrix\n",
    "co_matrix = (X.T * X).toarray()\n",
    "vocab = vectorizer.get_feature_names_out()\n",
    "\n",
    "# Convert to a DataFrame\n",
    "co_matrix_df = pd.DataFrame(co_matrix, index=vocab, columns=vocab)\n",
    "co_matrix_df\n"
   ]
  },
  {
   "cell_type": "markdown",
   "metadata": {},
   "source": [
    "# 8. How can you apply a regular expression to extract all email addresses from a text?"
   ]
  },
  {
   "cell_type": "code",
   "execution_count": 18,
   "metadata": {},
   "outputs": [
    {
     "data": {
      "text/plain": [
       "['example@gmail.com', 'test_email@domain.org']"
      ]
     },
     "execution_count": 18,
     "metadata": {},
     "output_type": "execute_result"
    }
   ],
   "source": [
    "import re\n",
    "\n",
    "# Sample text\n",
    "text = \"\"\"\n",
    "Hello, you can contact me at example@gmail.com or at test_email@domain.org. \n",
    "Feel free to reach out anytime.\n",
    "\"\"\"\n",
    "\n",
    "# Extract email addresses\n",
    "emails = re.findall(r\"[a-zA-Z0-9._%+-]+@[a-zA-Z0-9.-]+\\.[a-zA-Z]{2,}\", text)\n",
    "emails\n"
   ]
  },
  {
   "cell_type": "markdown",
   "metadata": {},
   "source": [
    "# 9.How can you perform word embedding using Word2Vec?"
   ]
  },
  {
   "cell_type": "code",
   "execution_count": 19,
   "metadata": {},
   "outputs": [
    {
     "data": {
      "text/plain": [
       "array([-0.00713902,  0.00124103, -0.00717672, -0.00224462,  0.0037193 ,\n",
       "        0.00583312,  0.00119818,  0.00210273, -0.00411039,  0.00722533,\n",
       "       -0.00630704,  0.00464722, -0.00821997,  0.00203647, -0.00497705,\n",
       "       -0.00424769, -0.00310898,  0.00565521,  0.0057984 , -0.00497465,\n",
       "        0.00077333, -0.00849578,  0.00780981,  0.00925729, -0.00274233,\n",
       "        0.00080022,  0.00074665,  0.00547788, -0.00860608,  0.00058446,\n",
       "        0.00686942,  0.00223159,  0.00112468, -0.00932216,  0.00848237,\n",
       "       -0.00626413, -0.00299237,  0.00349379, -0.00077263,  0.00141129,\n",
       "        0.00178199, -0.0068289 , -0.00972481,  0.00904058,  0.00619805,\n",
       "       -0.00691293,  0.00340348,  0.00020606,  0.00475375, -0.00711994,\n",
       "        0.00402695,  0.00434743,  0.00995737, -0.00447374, -0.00138926,\n",
       "       -0.00731732, -0.00969783, -0.00908026, -0.00102275, -0.00650329,\n",
       "        0.00484973, -0.00616403,  0.00251919,  0.00073944, -0.00339215,\n",
       "       -0.00097922,  0.00997913,  0.00914589, -0.00446183,  0.00908303,\n",
       "       -0.00564176,  0.00593092, -0.00309722,  0.00343175,  0.00301723,\n",
       "        0.00690046, -0.00237388,  0.00877504,  0.00758943, -0.00954765,\n",
       "       -0.00800821, -0.0076379 ,  0.00292326, -0.00279472, -0.00692952,\n",
       "       -0.00812826,  0.00830918,  0.00199049, -0.00932802, -0.00479272,\n",
       "        0.00313674, -0.00471321,  0.00528084, -0.00423344,  0.0026418 ,\n",
       "       -0.00804569,  0.00620989,  0.00481889,  0.00078719,  0.00301345],\n",
       "      dtype=float32)"
      ]
     },
     "execution_count": 19,
     "metadata": {},
     "output_type": "execute_result"
    }
   ],
   "source": [
    "from gensim.models import Word2Vec\n",
    "from nltk.tokenize import word_tokenize\n",
    "\n",
    "# Sample text corpus\n",
    "sentences = [\n",
    "    \"the cat sat on the mat\",\n",
    "    \"the dog sat on the log\",\n",
    "    \"the cat chased the dog\"\n",
    "]\n",
    "\n",
    "# Tokenize sentences\n",
    "tokenized_sentences = [word_tokenize(sentence) for sentence in sentences]\n",
    "\n",
    "# Train Word2Vec model\n",
    "model = Word2Vec(tokenized_sentences, vector_size=100, window=5, min_count=1, workers=4)\n",
    "\n",
    "# Get word vector for 'cat'\n",
    "vector_cat = model.wv['cat']\n",
    "vector_cat\n"
   ]
  },
  {
   "cell_type": "markdown",
   "metadata": {},
   "source": [
    "# 10.How can you use Doc2Vec to embed documents?"
   ]
  },
  {
   "cell_type": "code",
   "execution_count": 20,
   "metadata": {},
   "outputs": [
    {
     "data": {
      "text/plain": [
       "array([-5.2322699e-03, -5.9790984e-03, -9.8876301e-03,  8.5572470e-03,\n",
       "        3.5604439e-03,  2.6277432e-04, -9.8853465e-03, -5.1619993e-03,\n",
       "       -9.7168991e-03,  2.0116097e-03,  2.8330807e-03,  4.6403855e-03,\n",
       "       -4.2971005e-03, -3.1479211e-03, -3.0759308e-03, -8.7302690e-03,\n",
       "        2.1684545e-03,  9.2274500e-03, -9.5014656e-03, -3.4542733e-03,\n",
       "       -3.7631877e-03,  2.6131766e-03, -5.6972150e-03,  2.6235376e-03,\n",
       "        5.7998220e-03, -8.1086131e-03, -8.3340909e-03, -9.9575315e-03,\n",
       "        4.9368604e-03, -9.1284197e-03,  5.8462350e-03,  6.8038353e-03,\n",
       "       -6.5100077e-03, -4.5151752e-03, -1.2564737e-03,  1.6444849e-03,\n",
       "       -1.4786971e-03, -8.5409954e-03, -3.6078824e-03,  1.7308861e-03,\n",
       "       -2.0556301e-03, -7.2331424e-03,  4.1850666e-03, -8.5811997e-03,\n",
       "        2.7123191e-03, -4.6131499e-03,  6.4740243e-04, -2.0547754e-03,\n",
       "        5.4161190e-03, -8.0037722e-03, -2.1191705e-03, -8.8654844e-05,\n",
       "       -6.6341343e-03, -6.5310663e-03, -1.9344472e-03,  8.8058384e-03,\n",
       "       -1.2641530e-03,  3.5395736e-03, -5.7549155e-03,  8.8139689e-03,\n",
       "        2.9189533e-03,  9.2814369e-03,  4.3535149e-03, -4.2023845e-03,\n",
       "        2.2440027e-03, -4.4180793e-03,  5.7727364e-03,  1.8261892e-03,\n",
       "       -2.2851920e-03, -5.8844201e-03, -8.0236970e-03, -8.5499999e-04,\n",
       "       -8.9386059e-03, -9.2234602e-03, -7.9390220e-03,  2.1713381e-03,\n",
       "       -6.4954092e-03, -7.7909031e-03,  2.1304365e-03,  2.0533935e-03,\n",
       "        8.3541740e-03,  4.6696230e-03, -9.4159627e-03, -3.4039590e-04,\n",
       "        7.8523792e-03,  2.6736762e-03,  2.6795748e-03, -4.8837843e-03,\n",
       "        6.4751231e-03,  1.6492045e-03, -7.6049929e-03,  6.8697631e-03,\n",
       "       -9.7659063e-03, -8.1560807e-03, -4.8792148e-03,  9.9397898e-03,\n",
       "        3.1169320e-03, -2.0141068e-03,  8.8949092e-03,  2.3562293e-03],\n",
       "      dtype=float32)"
      ]
     },
     "execution_count": 20,
     "metadata": {},
     "output_type": "execute_result"
    }
   ],
   "source": [
    "from gensim.models.doc2vec import Doc2Vec, TaggedDocument\n",
    "from nltk.tokenize import word_tokenize\n",
    "\n",
    "# Sample documents\n",
    "documents = [\n",
    "    \"the cat sat on the mat\",\n",
    "    \"the dog sat on the log\",\n",
    "    \"the cat chased the dog\"\n",
    "]\n",
    "\n",
    "# Tag documents\n",
    "tagged_documents = [TaggedDocument(words=word_tokenize(doc), tags=[f\"Doc_{i}\"]) for i, doc in enumerate(documents)]\n",
    "\n",
    "# Train Doc2Vec model\n",
    "model = Doc2Vec(tagged_documents, vector_size=100, window=5, min_count=1, workers=4)\n",
    "\n",
    "# Get document vector for 'Doc_0'\n",
    "vector_doc_0 = model.dv[\"Doc_0\"]\n",
    "vector_doc_0\n"
   ]
  },
  {
   "cell_type": "markdown",
   "metadata": {},
   "source": [
    "# 11.How can you perform part-of-speech tagging?"
   ]
  },
  {
   "cell_type": "code",
   "execution_count": 21,
   "metadata": {},
   "outputs": [
    {
     "data": {
      "text/plain": [
       "[('The', 'DT'),\n",
       " ('cat', 'NN'),\n",
       " ('sat', 'VBD'),\n",
       " ('on', 'IN'),\n",
       " ('the', 'DT'),\n",
       " ('mat', 'NN'),\n",
       " ('.', '.')]"
      ]
     },
     "execution_count": 21,
     "metadata": {},
     "output_type": "execute_result"
    }
   ],
   "source": [
    "import nltk\n",
    "#nltk.download('averaged_perceptron_tagger')\n",
    "#nltk.download('punkt')\n",
    "\n",
    "# Sample sentence\n",
    "sentence = \"The cat sat on the mat.\"\n",
    "\n",
    "# Tokenize and perform POS tagging\n",
    "tokens = nltk.word_tokenize(sentence)\n",
    "pos_tags = nltk.pos_tag(tokens)\n",
    "pos_tags\n"
   ]
  },
  {
   "cell_type": "markdown",
   "metadata": {},
   "source": [
    "# 12. How can you find the similarity between two sentences using cosine similarity?"
   ]
  },
  {
   "cell_type": "code",
   "execution_count": 24,
   "metadata": {},
   "outputs": [
    {
     "data": {
      "text/plain": [
       "0.7799154245579976"
      ]
     },
     "execution_count": 24,
     "metadata": {},
     "output_type": "execute_result"
    }
   ],
   "source": [
    "from sklearn.feature_extraction.text import TfidfVectorizer\n",
    "from sklearn.metrics.pairwise import cosine_similarity\n",
    "\n",
    "# Sample sentences\n",
    "sentence1 = \"The cat sat on the mat.\"\n",
    "sentence2 = \"The dog sat on the mat.\"\n",
    "\n",
    "# Calculate TF-IDF\n",
    "vectorizer = TfidfVectorizer()\n",
    "tfidf_matrix = vectorizer.fit_transform([sentence1, sentence2])\n",
    "\n",
    "# Compute Cosine Similarity\n",
    "similarity = cosine_similarity(tfidf_matrix[0:1], tfidf_matrix[1:2])\n",
    "similarity[0][0]\n"
   ]
  },
  {
   "cell_type": "markdown",
   "metadata": {},
   "source": [
    "# 13. How can you extract named entities from a sentence? "
   ]
  },
  {
   "cell_type": "code",
   "execution_count": 27,
   "metadata": {},
   "outputs": [
    {
     "data": {
      "text/plain": [
       "[('Barack Obama', 'PERSON'), ('Hawaii', 'GPE'), ('1961', 'DATE')]"
      ]
     },
     "execution_count": 27,
     "metadata": {},
     "output_type": "execute_result"
    }
   ],
   "source": [
    "import spacy\n",
    "\n",
    "# Load SpaCy model\n",
    "nlp = spacy.load(\"en_core_web_sm\")\n",
    "\n",
    "# Sample sentence\n",
    "sentence = \"Barack Obama was born in Hawaii in 1961.\"\n",
    "\n",
    "# Extract named entities\n",
    "doc = nlp(sentence)\n",
    "entities = [(entity.text, entity.label_) for entity in doc.ents]\n",
    "entities\n"
   ]
  },
  {
   "cell_type": "markdown",
   "metadata": {},
   "source": [
    "# 14. How can you split a large document into smaller chunks of text?"
   ]
  },
  {
   "cell_type": "code",
   "execution_count": 28,
   "metadata": {},
   "outputs": [
    {
     "data": {
      "text/plain": [
       "['This is a very large document',\n",
       " 'It contains many sentences',\n",
       " 'Each sentence is important.']"
      ]
     },
     "execution_count": 28,
     "metadata": {},
     "output_type": "execute_result"
    }
   ],
   "source": [
    "# Sample text\n",
    "large_text = \"This is a very large document. It contains many sentences. Each sentence is important.\"\n",
    "\n",
    "# Split into chunks by sentence\n",
    "chunks = large_text.split(\". \")\n",
    "chunks\n"
   ]
  },
  {
   "cell_type": "markdown",
   "metadata": {},
   "source": [
    "# 15. How can you calculate the TF-IDF (Term Frequency - Inverse Document Frequency) for a set of documents?"
   ]
  },
  {
   "cell_type": "code",
   "execution_count": 29,
   "metadata": {},
   "outputs": [
    {
     "data": {
      "text/html": [
       "<div>\n",
       "<style scoped>\n",
       "    .dataframe tbody tr th:only-of-type {\n",
       "        vertical-align: middle;\n",
       "    }\n",
       "\n",
       "    .dataframe tbody tr th {\n",
       "        vertical-align: top;\n",
       "    }\n",
       "\n",
       "    .dataframe thead th {\n",
       "        text-align: right;\n",
       "    }\n",
       "</style>\n",
       "<table border=\"1\" class=\"dataframe\">\n",
       "  <thead>\n",
       "    <tr style=\"text-align: right;\">\n",
       "      <th></th>\n",
       "      <th>cat</th>\n",
       "      <th>chased</th>\n",
       "      <th>dog</th>\n",
       "      <th>log</th>\n",
       "      <th>mat</th>\n",
       "      <th>on</th>\n",
       "      <th>sat</th>\n",
       "      <th>the</th>\n",
       "    </tr>\n",
       "  </thead>\n",
       "  <tbody>\n",
       "    <tr>\n",
       "      <th>0</th>\n",
       "      <td>0.374207</td>\n",
       "      <td>0.000000</td>\n",
       "      <td>0.000000</td>\n",
       "      <td>0.000000</td>\n",
       "      <td>0.492038</td>\n",
       "      <td>0.374207</td>\n",
       "      <td>0.374207</td>\n",
       "      <td>0.581211</td>\n",
       "    </tr>\n",
       "    <tr>\n",
       "      <th>1</th>\n",
       "      <td>0.000000</td>\n",
       "      <td>0.000000</td>\n",
       "      <td>0.374207</td>\n",
       "      <td>0.492038</td>\n",
       "      <td>0.000000</td>\n",
       "      <td>0.374207</td>\n",
       "      <td>0.374207</td>\n",
       "      <td>0.581211</td>\n",
       "    </tr>\n",
       "    <tr>\n",
       "      <th>2</th>\n",
       "      <td>0.403525</td>\n",
       "      <td>0.530587</td>\n",
       "      <td>0.403525</td>\n",
       "      <td>0.000000</td>\n",
       "      <td>0.000000</td>\n",
       "      <td>0.000000</td>\n",
       "      <td>0.000000</td>\n",
       "      <td>0.626747</td>\n",
       "    </tr>\n",
       "  </tbody>\n",
       "</table>\n",
       "</div>"
      ],
      "text/plain": [
       "        cat    chased       dog       log       mat        on       sat  \\\n",
       "0  0.374207  0.000000  0.000000  0.000000  0.492038  0.374207  0.374207   \n",
       "1  0.000000  0.000000  0.374207  0.492038  0.000000  0.374207  0.374207   \n",
       "2  0.403525  0.530587  0.403525  0.000000  0.000000  0.000000  0.000000   \n",
       "\n",
       "        the  \n",
       "0  0.581211  \n",
       "1  0.581211  \n",
       "2  0.626747  "
      ]
     },
     "execution_count": 29,
     "metadata": {},
     "output_type": "execute_result"
    }
   ],
   "source": [
    "from sklearn.feature_extraction.text import TfidfVectorizer\n",
    "\n",
    "# Sample documents\n",
    "documents = [\n",
    "    \"the cat sat on the mat\",\n",
    "    \"the dog sat on the log\",\n",
    "    \"the cat chased the dog\"\n",
    "]\n",
    "\n",
    "# Calculate TF-IDF\n",
    "vectorizer = TfidfVectorizer()\n",
    "tfidf_matrix = vectorizer.fit_transform(documents)\n",
    "\n",
    "# Convert to a DataFrame\n",
    "tfidf_df = pd.DataFrame(tfidf_matrix.toarray(), columns=vectorizer.get_feature_names_out())\n",
    "tfidf_df\n"
   ]
  },
  {
   "cell_type": "markdown",
   "metadata": {},
   "source": [
    "# 16. How can you apply tokenization, stopword removal, and stemming in one go?"
   ]
  },
  {
   "cell_type": "code",
   "execution_count": 31,
   "metadata": {},
   "outputs": [
    {
     "data": {
      "text/plain": [
       "['quick', 'brown', 'fox', 'jump', 'lazi', 'dog', '.']"
      ]
     },
     "execution_count": 31,
     "metadata": {},
     "output_type": "execute_result"
    }
   ],
   "source": [
    "import nltk\n",
    "from nltk.corpus import stopwords\n",
    "from nltk.stem import PorterStemmer\n",
    "\n",
    "# Sample text\n",
    "text = \"The quick brown fox jumps over the lazy dog.\"\n",
    "\n",
    "# Tokenize\n",
    "tokens = nltk.word_tokenize(text)\n",
    "\n",
    "# Remove stopwords\n",
    "stop_words = set(stopwords.words(\"english\"))\n",
    "filtered_tokens = [word for word in tokens if word.lower() not in stop_words]\n",
    "\n",
    "# Perform stemming\n",
    "stemmer = PorterStemmer()\n",
    "stemmed_tokens = [stemmer.stem(word) for word in filtered_tokens]\n",
    "\n",
    "stemmed_tokens\n"
   ]
  },
  {
   "cell_type": "markdown",
   "metadata": {},
   "source": [
    "# 17.How can you visualize the frequency distribution of words in a sentence?"
   ]
  },
  {
   "cell_type": "code",
   "execution_count": 32,
   "metadata": {},
   "outputs": [
    {
     "data": {
      "image/png": "[encoded data removed]",
      "text/plain": [
       "<Figure size 1000x600 with 1 Axes>"
      ]
     },
     "metadata": {},
     "output_type": "display_data"
    }
   ],
   "source": [
    "import nltk\n",
    "from nltk.probability import FreqDist\n",
    "import matplotlib.pyplot as plt\n",
    "\n",
    "# Sample text\n",
    "text = \"The cat sat on the mat. The dog sat on the log.\"\n",
    "\n",
    "# Tokenize and calculate frequency\n",
    "tokens = nltk.word_tokenize(text)\n",
    "freq_dist = FreqDist(tokens)\n",
    "\n",
    "# Plot frequency distribution\n",
    "plt.figure(figsize=(10, 6))\n",
    "freq_dist.plot(30, cumulative=False)\n",
    "plt.show()\n"
   ]
  }
 ],
 "metadata": {
  "kernelspec": {
   "display_name": "base",
   "language": "python",
   "name": "python3"
  },
  "language_info": {
   "codemirror_mode": {
    "name": "ipython",
    "version": 3
   },
   "file_extension": ".py",
   "mimetype": "text/x-python",
   "name": "python",
   "nbconvert_exporter": "python",
   "pygments_lexer": "ipython3",
   "version": "3.11.7"
  }
 },
 "nbformat": 4,
 "nbformat_minor": 2
}
